{
 "cells": [
  {
   "cell_type": "code",
   "execution_count": 11,
   "id": "27b50859",
   "metadata": {},
   "outputs": [],
   "source": [
    "from splinter import Browser\n",
    "from bs4 import BeautifulSoup\n",
    "import time"
   ]
  },
  {
   "cell_type": "code",
   "execution_count": 12,
   "id": "d6e7ab7b",
   "metadata": {},
   "outputs": [],
   "source": [
    "# Close the Modal to select a store\n",
    "\n",
    "def close_modal(browser):\n",
    "    modal_selector = 'div.Modal__Backdrop'\n",
    "    if browser.is_element_present_by_css(modal_selector, wait_time=10):\n",
    "        # Close the modal by clicking anywhere on the page\n",
    "        browser.find_by_tag('body').first.click()"
   ]
  },
  {
   "cell_type": "code",
   "execution_count": 13,
   "id": "d2ca9b6c",
   "metadata": {},
   "outputs": [],
   "source": [
    "# Close the Cookie Banner \n",
    "\n",
    "def close_cookie_banner(browser):\n",
    "    cookie_banner_selector = 'div#cookieBanner'\n",
    "    if browser.is_element_present_by_css(cookie_banner_selector, wait_time=10):\n",
    "        # Use JavaScript to set the display style to none and hide the cookie banner\n",
    "        browser.execute_script(f\"document.querySelector('{cookie_banner_selector}').style.display = 'none'\")"
   ]
  },
  {
   "cell_type": "code",
   "execution_count": 14,
   "id": "03c3bb12",
   "metadata": {},
   "outputs": [],
   "source": [
    "# Scrape a page for Name and Price\n",
    "\n",
    "def scrape_page(browser):\n",
    "    # Wait for the product grids to be present\n",
    "    browser.is_element_present_by_css('div.DynamicProductList__Table', wait_time=10)\n",
    "\n",
    "    # Get HTML of the page and Parse the HTML with BeautifulSoup\n",
    "    html = browser.html\n",
    "    soup = BeautifulSoup(html, 'html.parser')\n",
    "\n",
    "    # Find and extract information about each product\n",
    "    product_grids = soup.find_all('div', class_='DynamicProductList__Table')\n",
    "\n",
    "    # Check if any product grids were found before proceeding\n",
    "    if product_grids:\n",
    "        for product_grid in product_grids:\n",
    "            # Find product information within each product grid\n",
    "            product_name_element = product_grid.find('a', class_='ProductResultName')\n",
    "            product_price_element = product_grid.find('a', class_='ProductResultPrice')\n",
    "\n",
    "            if product_name_element and product_price_element:\n",
    "                # Extract information for each product\n",
    "                product_name = product_name_element.text.strip()\n",
    "                product_price = product_price_element.text.strip()\n",
    "\n",
    "                # Print or store the information as needed\n",
    "                print(f\"Product Name: {product_name}\")\n",
    "                print(f\"Product Price: {product_price}\")\n",
    "                print(\"\\n\" + \"=\"*30 + \"\\n\")\n",
    "    else:\n",
    "        print(\"No product grids found on the page.\")\n"
   ]
  },
  {
   "cell_type": "code",
   "execution_count": 15,
   "id": "9a754d13",
   "metadata": {},
   "outputs": [],
   "source": [
    "# Set up Splinter\n",
    "browser = Browser('chrome', headless=False) "
   ]
  },
  {
   "cell_type": "code",
   "execution_count": 16,
   "id": "6ec3187f",
   "metadata": {},
   "outputs": [],
   "source": [
    "# Starting URL\n",
    "base_url = 'https://www.petvalu.ca/category/dog/dry-food/30-081318-003'\n",
    "browser.visit(base_url)"
   ]
  },
  {
   "cell_type": "code",
   "execution_count": 17,
   "id": "72a1a4f6",
   "metadata": {},
   "outputs": [],
   "source": [
    "# Number of pages\n",
    "num_pages_to_scrape = 10"
   ]
  },
  {
   "cell_type": "code",
   "execution_count": 18,
   "id": "900c634e",
   "metadata": {
    "scrolled": true
   },
   "outputs": [
    {
     "name": "stdout",
     "output_type": "stream",
     "text": [
      "Scraping information from page 1...\n",
      "\n",
      "Product Name: performatrin Ultra Limited Ingredient Kangaroo Recipe Adult Dog Food\n",
      "Product Price: $28.99-112.99\n",
      "\n",
      "==============================\n",
      "\n",
      "Scraping information from page 2...\n",
      "\n",
      "Product Name: performatrin Prime Lamb Meal & Brown Rice Formula Adult Dog Food\n",
      "Product Price: $27.99-82.99\n",
      "\n",
      "==============================\n",
      "\n",
      "Scraping information from page 3...\n",
      "\n",
      "Product Name: Open Farm Grain Free Homestead Turkey & Chicken Dog Food\n",
      "Product Price: $29.99-102.99\n",
      "\n",
      "==============================\n",
      "\n",
      "Scraping information from page 4...\n",
      "\n",
      "Product Name: Royal Canin Shih Tzu Adult Dog Food\n",
      "Product Price: $36.99-87.99\n",
      "\n",
      "==============================\n",
      "\n",
      "Scraping information from page 5...\n",
      "\n",
      "Product Name: Taste of the Wild High Prairie Puppy Formula Dog Food\n",
      "Product Price: $26.99-97.99\n",
      "\n",
      "==============================\n",
      "\n",
      "Scraping information from page 6...\n",
      "\n",
      "Product Name: Royal Canin Giant Junior Dog Food\n",
      "Product Price: $126.99\n",
      "\n",
      "==============================\n",
      "\n",
      "Scraping information from page 7...\n",
      "\n",
      "Product Name: Lifetime Grain-Free Wild Caught Fish Meal\n",
      "Product Price: $69.99\n",
      "\n",
      "==============================\n",
      "\n",
      "Scraping information from page 8...\n",
      "\n",
      "Product Name: ACANA Sport & Agility Recipe Adult Dog Food\n",
      "Product Price: $84.99\n",
      "\n",
      "==============================\n",
      "\n",
      "Scraping information from page 9...\n",
      "\n",
      "Product Name: Blue Buffalo Life Protection Formula Healthy Weight Chicken & Brown Rice Recipe Adult Dog Food\n",
      "Product Price: $28.99\n",
      "\n",
      "==============================\n",
      "\n",
      "Scraping information from page 10...\n",
      "\n",
      "Product Name: Now Fresh Grain-Free Trout, Salmon & Herring Fish Recipe Adult Dog Food\n",
      "Product Price: $29.99-109.99\n",
      "\n",
      "==============================\n",
      "\n",
      "No 'Next' button found. Exiting...\n"
     ]
    }
   ],
   "source": [
    "# Iterate through pages\n",
    "for page_num in range(1, num_pages_to_scrape + 1):\n",
    "    print(f\"Scraping information from page {page_num}...\\n\")\n",
    "    scrape_page(browser)\n",
    "\n",
    "    # Close the modal on each page\n",
    "    close_modal(browser)\n",
    "\n",
    "    # Close the cookie banner on each subsequent page\n",
    "    close_cookie_banner(browser)\n",
    "\n",
    "    # Navigate to the next page using JavaScript click\n",
    "    next_page_link_selector = 'a.page_button.next.link'\n",
    "    \n",
    "    # Check if the \"Next\" button is present\n",
    "    if browser.is_element_present_by_css(next_page_link_selector, wait_time=5):\n",
    "        browser.execute_script(f\"document.querySelector('{next_page_link_selector}').click()\")\n",
    "        \n",
    "        # Give the browser a moment to load the next page\n",
    "        time.sleep(2)\n",
    "    else:\n",
    "        # Break out of the loop if the \"Next\" button is not found\n",
    "        print(\"No 'Next' button found. Exiting...\")\n",
    "        break"
   ]
  },
  {
   "cell_type": "code",
   "execution_count": null,
   "id": "3497e831",
   "metadata": {},
   "outputs": [],
   "source": []
  }
 ],
 "metadata": {
  "kernelspec": {
   "display_name": "Python 3 (ipykernel)",
   "language": "python",
   "name": "python3"
  },
  "language_info": {
   "codemirror_mode": {
    "name": "ipython",
    "version": 3
   },
   "file_extension": ".py",
   "mimetype": "text/x-python",
   "name": "python",
   "nbconvert_exporter": "python",
   "pygments_lexer": "ipython3",
   "version": "3.11.4"
  }
 },
 "nbformat": 4,
 "nbformat_minor": 5
}
